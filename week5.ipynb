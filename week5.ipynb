{
 "cells": [
  {
   "cell_type": "code",
   "execution_count": 10,
   "metadata": {},
   "outputs": [
    {
     "output_type": "stream",
     "name": "stdout",
     "text": [
      "Data frame is 74,188 x 74\n"
     ]
    }
   ],
   "source": [
    "url = 'https://github.com/jreades/i2p/raw/master/data/src/2020-08-24-listings.csv.gz'\n",
    "import pandas as pd\n",
    "df = pd.read_csv(url, compression='gzip', low_memory=False)\n",
    "\n",
    "print(f\"Data frame is {df.shape[0]:,} x {df.shape[1]}\")"
   ]
  },
  {
   "cell_type": "code",
   "execution_count": 11,
   "metadata": {},
   "outputs": [
    {
     "output_type": "stream",
     "name": "stdout",
     "text": [
      "<class 'pandas.core.frame.DataFrame'>\nRangeIndex: 74188 entries, 0 to 74187\nData columns (total 74 columns):\n #   Column                                        Non-Null Count  Dtype  \n---  ------                                        --------------  -----  \n 0   id                                            74186 non-null  float64\n 1   listing_url                                   74187 non-null  object \n 2   scrape_id                                     74187 non-null  object \n 3   last_scraped                                  74187 non-null  object \n 4   name                                          74167 non-null  object \n 5   description                                   71329 non-null  object \n 6   neighborhood_overview                         47208 non-null  object \n 7   picture_url                                   74188 non-null  object \n 8   host_id                                       74188 non-null  float64\n 9   host_url                                      74188 non-null  object \n 10  host_name                                     74179 non-null  object \n 11  host_since                                    74179 non-null  object \n 12  host_location                                 74006 non-null  object \n 13  host_about                                    42494 non-null  object \n 14  host_response_time                            37781 non-null  object \n 15  host_response_rate                            37779 non-null  object \n 16  host_acceptance_rate                          51597 non-null  object \n 17  host_is_superhost                             74177 non-null  object \n 18  host_thumbnail_url                            74177 non-null  object \n 19  host_picture_url                              74177 non-null  object \n 20  host_neighbourhood                            56560 non-null  object \n 21  host_listings_count                           74175 non-null  float64\n 22  host_total_listings_count                     74177 non-null  object \n 23  host_verifications                            74186 non-null  object \n 24  host_has_profile_pic                          74177 non-null  object \n 25  host_identity_verified                        74177 non-null  object \n 26  neighbourhood                                 47207 non-null  object \n 27  neighbourhood_cleansed                        74186 non-null  object \n 28  neighbourhood_group_cleansed                  2 non-null      float64\n 29  latitude                                      74186 non-null  float64\n 30  longitude                                     74186 non-null  float64\n 31  property_type                                 74186 non-null  object \n 32  room_type                                     74186 non-null  object \n 33  accommodates                                  74186 non-null  float64\n 34  bathrooms                                     2 non-null      float64\n 35  bathrooms_text                                74029 non-null  object \n 36  bedrooms                                      69594 non-null  object \n 37  beds                                          73199 non-null  float64\n 38  amenities                                     74186 non-null  object \n 39  price                                         74186 non-null  object \n 40  minimum_nights                                74186 non-null  float64\n 41  maximum_nights                                74186 non-null  object \n 42  minimum_minimum_nights                        74186 non-null  float64\n 43  maximum_minimum_nights                        74186 non-null  float64\n 44  minimum_maximum_nights                        74186 non-null  float64\n 45  maximum_maximum_nights                        74186 non-null  object \n 46  minimum_nights_avg_ntm                        74186 non-null  object \n 47  maximum_nights_avg_ntm                        74186 non-null  float64\n 48  calendar_updated                              2 non-null      float64\n 49  has_availability                              74186 non-null  object \n 50  availability_30                               74186 non-null  float64\n 51  availability_60                               74186 non-null  float64\n 52  availability_90                               74186 non-null  float64\n 53  availability_365                              74186 non-null  float64\n 54  calendar_last_scraped                         74184 non-null  object \n 55  number_of_reviews                             74186 non-null  object \n 56  number_of_reviews_ltm                         74186 non-null  float64\n 57  number_of_reviews_l30d                        74186 non-null  float64\n 58  first_review                                  53903 non-null  object \n 59  last_review                                   53903 non-null  object \n 60  review_scores_rating                          52285 non-null  float64\n 61  review_scores_accuracy                        52233 non-null  float64\n 62  review_scores_cleanliness                     52242 non-null  float64\n 63  review_scores_checkin                         52194 non-null  float64\n 64  review_scores_communication                   52234 non-null  float64\n 65  review_scores_location                        52197 non-null  float64\n 66  review_scores_value                           52196 non-null  float64\n 67  license                                       0 non-null      float64\n 68  instant_bookable                              74184 non-null  object \n 69  calculated_host_listings_count                74184 non-null  float64\n 70  calculated_host_listings_count_entire_homes   74184 non-null  float64\n 71  calculated_host_listings_count_private_rooms  74184 non-null  float64\n 72  calculated_host_listings_count_shared_rooms   74184 non-null  float64\n 73  reviews_per_month                             53901 non-null  float64\ndtypes: float64(34), object(40)\nmemory usage: 30.6+ MB\n"
     ]
    }
   ],
   "source": [
    "\n",
    "df.info()"
   ]
  },
  {
   "cell_type": "code",
   "execution_count": 12,
   "metadata": {},
   "outputs": [
    {
     "output_type": "stream",
     "name": "stdout",
     "text": [
      "['id', 'listing_url', 'scrape_id', 'last_scraped', 'name', 'description', 'neighborhood_overview', 'picture_url', 'host_id', 'host_url', 'host_name', 'host_since', 'host_location', 'host_about', 'host_response_time', 'host_response_rate', 'host_acceptance_rate', 'host_is_superhost', 'host_thumbnail_url', 'host_picture_url', 'host_neighbourhood', 'host_listings_count', 'host_total_listings_count', 'host_verifications', 'host_has_profile_pic', 'host_identity_verified', 'neighbourhood', 'neighbourhood_cleansed', 'neighbourhood_group_cleansed', 'latitude', 'longitude', 'property_type', 'room_type', 'accommodates', 'bathrooms', 'bathrooms_text', 'bedrooms', 'beds', 'amenities', 'price', 'minimum_nights', 'maximum_nights', 'minimum_minimum_nights', 'maximum_minimum_nights', 'minimum_maximum_nights', 'maximum_maximum_nights', 'minimum_nights_avg_ntm', 'maximum_nights_avg_ntm', 'calendar_updated', 'has_availability', 'availability_30', 'availability_60', 'availability_90', 'availability_365', 'calendar_last_scraped', 'number_of_reviews', 'number_of_reviews_ltm', 'number_of_reviews_l30d', 'first_review', 'last_review', 'review_scores_rating', 'review_scores_accuracy', 'review_scores_cleanliness', 'review_scores_checkin', 'review_scores_communication', 'review_scores_location', 'review_scores_value', 'license', 'instant_bookable', 'calculated_host_listings_count', 'calculated_host_listings_count_entire_homes', 'calculated_host_listings_count_private_rooms', 'calculated_host_listings_count_shared_rooms', 'reviews_per_month']\n"
     ]
    }
   ],
   "source": [
    "print(list(df.columns.values))"
   ]
  },
  {
   "cell_type": "code",
   "execution_count": 13,
   "metadata": {},
   "outputs": [
    {
     "output_type": "stream",
     "name": "stdout",
     "text": [
      "Writing to: 2020-08-24-listings.csv.gz\n"
     ]
    }
   ],
   "source": [
    "import os\n",
    "path = os.path.join('data','raw') # A default location to save raw data\n",
    "fn   = url.split('/')[-1]         # What does this do?\n",
    "print(f\"Writing to: {fn}\")"
   ]
  },
  {
   "cell_type": "code",
   "execution_count": 16,
   "metadata": {},
   "outputs": [
    {
     "output_type": "stream",
     "name": "stdout",
     "text": [
      "Done.\n"
     ]
    }
   ],
   "source": [
    "if not os.path.exists(path):\n",
    "    print(f\"Creating {path} under {os.getcwd()}\")\n",
    "    os.makedirs(path)\n",
    "    \n",
    "df.to_csv(os.path.join(path,fn), index=False)\n",
    "print(\"Done.\")"
   ]
  },
  {
   "cell_type": "code",
   "execution_count": 17,
   "metadata": {},
   "outputs": [],
   "source": [
    "cols = ['id', 'listing_url', 'last_scraped', 'name', 'description', 'host_id', 'host_name', 'host_since', \n",
    "        'host_location', 'host_about', 'host_response_rate', 'host_acceptance_rate', 'host_is_superhost', \n",
    "        'host_listings_count', 'host_total_listings_count', 'host_verifications', 'latitude', 'longitude', \n",
    "        'property_type', 'room_type', 'accommodates', 'bathrooms', 'bathrooms_text', 'bedrooms', 'beds', \n",
    "        'amenities', 'price', 'minimum_nights', 'maximum_nights', 'availability_365', 'number_of_reviews', \n",
    "        'first_review', 'last_review', 'review_scores_rating', 'review_scores_cleanliness', \n",
    "        'review_scores_checkin', 'review_scores_communication', 'review_scores_location', 'license', \n",
    "        'instant_bookable', 'calculated_host_listings_count', 'reviews_per_month']"
   ]
  },
  {
   "cell_type": "code",
   "execution_count": 21,
   "metadata": {},
   "outputs": [
    {
     "output_type": "error",
     "ename": "SyntaxError",
     "evalue": "positional argument follows keyword argument (<ipython-input-21-d82208a8ec2b>, line 2)",
     "traceback": [
      "\u001b[1;36m  File \u001b[1;32m\"<ipython-input-21-d82208a8ec2b>\"\u001b[1;36m, line \u001b[1;32m2\u001b[0m\n\u001b[1;33m    df = pd.to_csv(os.path.join(path,fn), low_memory=False, usecols=cols, nrows=10,000)\u001b[0m\n\u001b[1;37m                                                                                   ^\u001b[0m\n\u001b[1;31mSyntaxError\u001b[0m\u001b[1;31m:\u001b[0m positional argument follows keyword argument\n"
     ]
    }
   ],
   "source": [
    "del(df)\n",
    "df = pd.to_csv(os.path.join(path,fn), low_memory=False, usecols=cols, nrows=10,000)\n",
    "print(f\"Data frame is {df.shape[0]:,} x {df.shape[1]}\")"
   ]
  },
  {
   "cell_type": "code",
   "execution_count": null,
   "metadata": {},
   "outputs": [],
   "source": []
  }
 ],
 "metadata": {
  "kernelspec": {
   "name": "Python 3.8.5 32-bit",
   "display_name": "Python 3.8.5 32-bit",
   "metadata": {
    "interpreter": {
     "hash": "c617fa10d1ba9d6a36573c3c4f7496e3bb2fbcdd4aeff3a055aadb58d26c8355"
    }
   }
  },
  "language_info": {
   "codemirror_mode": {
    "name": "ipython",
    "version": 3
   },
   "file_extension": ".py",
   "mimetype": "text/x-python",
   "name": "python",
   "nbconvert_exporter": "python",
   "pygments_lexer": "ipython3",
   "version": "3.8.5-final"
  }
 },
 "nbformat": 4,
 "nbformat_minor": 4
}