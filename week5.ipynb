{
 "cells": [
  {
   "cell_type": "code",
   "execution_count": 13,
   "metadata": {},
   "outputs": [
    {
     "output_type": "stream",
     "name": "stdout",
     "text": [
      "Data frame is 74,188 x 74\n"
     ]
    }
   ],
   "source": [
    "url = 'https://github.com/jreades/i2p/raw/master/data/src/2020-08-24-listings.csv.gz'\n",
    "import pandas as pd\n",
    "df = pd.read_csv(url, compression='gzip', low_memory=False)\n",
    "\n",
    "print(f\"Data frame is {df.shape[0]:,} x {df.shape[1]}\")"
   ]
  },
  {
   "cell_type": "code",
   "execution_count": 14,
   "metadata": {},
   "outputs": [],
   "source": [
    "import pandas as pd"
   ]
  },
  {
   "cell_type": "code",
   "execution_count": 15,
   "metadata": {},
   "outputs": [
    {
     "output_type": "stream",
     "name": "stdout",
     "text": [
      "<class 'pandas.core.frame.DataFrame'>\nRangeIndex: 74188 entries, 0 to 74187\nData columns (total 74 columns):\n #   Column                                        Non-Null Count  Dtype  \n---  ------                                        --------------  -----  \n 0   id                                            74186 non-null  float64\n 1   listing_url                                   74187 non-null  object \n 2   scrape_id                                     74187 non-null  object \n 3   last_scraped                                  74187 non-null  object \n 4   name                                          74167 non-null  object \n 5   description                                   71329 non-null  object \n 6   neighborhood_overview                         47208 non-null  object \n 7   picture_url                                   74188 non-null  object \n 8   host_id                                       74188 non-null  float64\n 9   host_url                                      74188 non-null  object \n 10  host_name                                     74179 non-null  object \n 11  host_since                                    74179 non-null  object \n 12  host_location                                 74006 non-null  object \n 13  host_about                                    42494 non-null  object \n 14  host_response_time                            37781 non-null  object \n 15  host_response_rate                            37779 non-null  object \n 16  host_acceptance_rate                          51597 non-null  object \n 17  host_is_superhost                             74177 non-null  object \n 18  host_thumbnail_url                            74177 non-null  object \n 19  host_picture_url                              74177 non-null  object \n 20  host_neighbourhood                            56560 non-null  object \n 21  host_listings_count                           74175 non-null  float64\n 22  host_total_listings_count                     74177 non-null  object \n 23  host_verifications                            74186 non-null  object \n 24  host_has_profile_pic                          74177 non-null  object \n 25  host_identity_verified                        74177 non-null  object \n 26  neighbourhood                                 47207 non-null  object \n 27  neighbourhood_cleansed                        74186 non-null  object \n 28  neighbourhood_group_cleansed                  2 non-null      float64\n 29  latitude                                      74186 non-null  float64\n 30  longitude                                     74186 non-null  float64\n 31  property_type                                 74186 non-null  object \n 32  room_type                                     74186 non-null  object \n 33  accommodates                                  74186 non-null  float64\n 34  bathrooms                                     2 non-null      float64\n 35  bathrooms_text                                74029 non-null  object \n 36  bedrooms                                      69594 non-null  object \n 37  beds                                          73199 non-null  float64\n 38  amenities                                     74186 non-null  object \n 39  price                                         74186 non-null  object \n 40  minimum_nights                                74186 non-null  float64\n 41  maximum_nights                                74186 non-null  object \n 42  minimum_minimum_nights                        74186 non-null  float64\n 43  maximum_minimum_nights                        74186 non-null  float64\n 44  minimum_maximum_nights                        74186 non-null  float64\n 45  maximum_maximum_nights                        74186 non-null  object \n 46  minimum_nights_avg_ntm                        74186 non-null  object \n 47  maximum_nights_avg_ntm                        74186 non-null  float64\n 48  calendar_updated                              2 non-null      float64\n 49  has_availability                              74186 non-null  object \n 50  availability_30                               74186 non-null  float64\n 51  availability_60                               74186 non-null  float64\n 52  availability_90                               74186 non-null  float64\n 53  availability_365                              74186 non-null  float64\n 54  calendar_last_scraped                         74184 non-null  object \n 55  number_of_reviews                             74186 non-null  object \n 56  number_of_reviews_ltm                         74186 non-null  float64\n 57  number_of_reviews_l30d                        74186 non-null  float64\n 58  first_review                                  53903 non-null  object \n 59  last_review                                   53903 non-null  object \n 60  review_scores_rating                          52285 non-null  float64\n 61  review_scores_accuracy                        52233 non-null  float64\n 62  review_scores_cleanliness                     52242 non-null  float64\n 63  review_scores_checkin                         52194 non-null  float64\n 64  review_scores_communication                   52234 non-null  float64\n 65  review_scores_location                        52197 non-null  float64\n 66  review_scores_value                           52196 non-null  float64\n 67  license                                       0 non-null      float64\n 68  instant_bookable                              74184 non-null  object \n 69  calculated_host_listings_count                74184 non-null  float64\n 70  calculated_host_listings_count_entire_homes   74184 non-null  float64\n 71  calculated_host_listings_count_private_rooms  74184 non-null  float64\n 72  calculated_host_listings_count_shared_rooms   74184 non-null  float64\n 73  reviews_per_month                             53901 non-null  float64\ndtypes: float64(34), object(40)\nmemory usage: 30.6+ MB\n"
     ]
    }
   ],
   "source": [
    "\n",
    "df.info()"
   ]
  },
  {
   "cell_type": "code",
   "execution_count": 16,
   "metadata": {},
   "outputs": [
    {
     "output_type": "stream",
     "name": "stdout",
     "text": [
      "['id', 'listing_url', 'scrape_id', 'last_scraped', 'name', 'description', 'neighborhood_overview', 'picture_url', 'host_id', 'host_url', 'host_name', 'host_since', 'host_location', 'host_about', 'host_response_time', 'host_response_rate', 'host_acceptance_rate', 'host_is_superhost', 'host_thumbnail_url', 'host_picture_url', 'host_neighbourhood', 'host_listings_count', 'host_total_listings_count', 'host_verifications', 'host_has_profile_pic', 'host_identity_verified', 'neighbourhood', 'neighbourhood_cleansed', 'neighbourhood_group_cleansed', 'latitude', 'longitude', 'property_type', 'room_type', 'accommodates', 'bathrooms', 'bathrooms_text', 'bedrooms', 'beds', 'amenities', 'price', 'minimum_nights', 'maximum_nights', 'minimum_minimum_nights', 'maximum_minimum_nights', 'minimum_maximum_nights', 'maximum_maximum_nights', 'minimum_nights_avg_ntm', 'maximum_nights_avg_ntm', 'calendar_updated', 'has_availability', 'availability_30', 'availability_60', 'availability_90', 'availability_365', 'calendar_last_scraped', 'number_of_reviews', 'number_of_reviews_ltm', 'number_of_reviews_l30d', 'first_review', 'last_review', 'review_scores_rating', 'review_scores_accuracy', 'review_scores_cleanliness', 'review_scores_checkin', 'review_scores_communication', 'review_scores_location', 'review_scores_value', 'license', 'instant_bookable', 'calculated_host_listings_count', 'calculated_host_listings_count_entire_homes', 'calculated_host_listings_count_private_rooms', 'calculated_host_listings_count_shared_rooms', 'reviews_per_month']\n"
     ]
    }
   ],
   "source": [
    "print(list(df.columns.values))"
   ]
  },
  {
   "cell_type": "code",
   "execution_count": 17,
   "metadata": {},
   "outputs": [
    {
     "output_type": "stream",
     "name": "stdout",
     "text": [
      "Writing to: 2020-08-24-listings.csv.gz\n"
     ]
    }
   ],
   "source": [
    "import os\n",
    "path = os.path.join('data','raw') # A default location to save raw data\n",
    "fn   = url.split('/')[-1]         # What does this do?\n",
    "print(f\"Writing to: {fn}\")"
   ]
  },
  {
   "cell_type": "code",
   "execution_count": 19,
   "metadata": {},
   "outputs": [
    {
     "output_type": "stream",
     "name": "stdout",
     "text": [
      "Done.\n"
     ]
    }
   ],
   "source": [
    "if not os.path.exists(path):\n",
    "    print(f\"Creating {path} under {os.getcwd()}\")\n",
    "    os.makedirs(path)\n",
    "    \n",
    "df.to_csv(os.path.join(path,fn), index=False)\n",
    "print(\"Done.\")"
   ]
  },
  {
   "cell_type": "code",
   "execution_count": 20,
   "metadata": {},
   "outputs": [],
   "source": [
    "cols = ['id', 'listing_url', 'last_scraped', 'name', 'description', 'host_id', 'host_name', 'host_since', \n",
    "        'host_location', 'host_about', 'host_response_rate', 'host_acceptance_rate', 'host_is_superhost', \n",
    "        'host_listings_count', 'host_total_listings_count', 'host_verifications', 'latitude', 'longitude', \n",
    "        'property_type', 'room_type', 'accommodates', 'bathrooms', 'bathrooms_text', 'bedrooms', 'beds', \n",
    "        'amenities', 'price', 'minimum_nights', 'maximum_nights', 'availability_365', 'number_of_reviews', \n",
    "        'first_review', 'last_review', 'review_scores_rating', 'review_scores_cleanliness', \n",
    "        'review_scores_checkin', 'review_scores_communication', 'review_scores_location', 'license', \n",
    "        'instant_bookable', 'calculated_host_listings_count', 'reviews_per_month']"
   ]
  },
  {
   "cell_type": "code",
   "execution_count": 23,
   "metadata": {},
   "outputs": [
    {
     "output_type": "stream",
     "name": "stdout",
     "text": [
      "Data frame is 10,000 x 42\n"
     ]
    }
   ],
   "source": [
    "del(df)\n",
    "df = pd.read_csv(os.path.join(path,fn), low_memory=False, usecols=cols, nrows=10000)\n",
    "print(f\"Data frame is {df.shape[0]:,} x {df.shape[1]}\")"
   ]
  },
  {
   "cell_type": "code",
   "execution_count": 25,
   "metadata": {},
   "outputs": [
    {
     "output_type": "execute_result",
     "data": {
      "text/plain": [
       "             id                           listing_url last_scraped  \\\n",
       "6252  5611338.0  https://www.airbnb.com/rooms/5611338   2020-08-27   \n",
       "4684  4176912.0  https://www.airbnb.com/rooms/4176912   2020-08-26   \n",
       "1731  1041523.0  https://www.airbnb.com/rooms/1041523   2020-08-26   \n",
       "4742  4225126.0  https://www.airbnb.com/rooms/4225126   2020-08-26   \n",
       "4521  4012401.0  https://www.airbnb.com/rooms/4012401   2020-08-26   \n",
       "6340  5711398.0  https://www.airbnb.com/rooms/5711398   2020-08-26   \n",
       "\n",
       "                                                   name  \\\n",
       "6252                 Lovely Flat close to Tower Bridge!   \n",
       "4684                  B&B Smart Charming 2bed 6 Sleeper   \n",
       "1731         Beautifully Spacious Property in Islington   \n",
       "4742                     Lovely room on Shoreditch Park   \n",
       "4521  BIG Double ROOM +LIVINGROOM + GARDEN @ CAMDEN ...   \n",
       "6340                  Master Bedroom in a Converted Pub   \n",
       "\n",
       "                                            description     host_id host_name  \\\n",
       "6252  ´The flat is very spacious (1 bedroom, living ...  29021331.0    Sandra   \n",
       "4684  <b>The space</b><br />PLEASE KINDLY ASK FOR AV...   1517803.0     Hilmi   \n",
       "1731  This beautiful 1 bedroom property sits in the ...   5733781.0     Tomas   \n",
       "4742  A nice room in East London on Regents Canal an...  13740059.0      Eric   \n",
       "4521  Spacious  double room in camden town with your...  20298323.0     James   \n",
       "6340  We live an a beautifully converted pub, right ...  11021500.0      Toby   \n",
       "\n",
       "      host_since                       host_location  \\\n",
       "6252  2015-03-09  Madrid, Community of Madrid, Spain   \n",
       "4684  2011-12-19              London, United Kingdom   \n",
       "1731  2013-04-02                              London   \n",
       "4742  2014-03-31   New York, New York, United States   \n",
       "4521  2014-08-20                              LONDON   \n",
       "6340  2014-01-04                     London, England   \n",
       "\n",
       "                                             host_about  ... last_review  \\\n",
       "6252  Hi! \\r\\n\\r\\nWe are Sandra and Pablo, a couple ...  ...  2017-11-05   \n",
       "4684  I am a young professional with an engineer bac...  ...  2015-04-02   \n",
       "1731                 I'm from London and like to travel  ...  2020-01-21   \n",
       "4742                     World traveler extraordinaire   ...         NaN   \n",
       "4521  French physiotherapist living in the heart of ...  ...  2020-07-20   \n",
       "6340  I'm lively, easygoing and a little bit geeky. ...  ...         NaN   \n",
       "\n",
       "     review_scores_rating review_scores_cleanliness  review_scores_checkin  \\\n",
       "6252                 96.0                      10.0                   10.0   \n",
       "4684                 73.0                       9.0                    9.0   \n",
       "1731                 95.0                      10.0                   10.0   \n",
       "4742                  NaN                       NaN                    NaN   \n",
       "4521                 90.0                       9.0                   10.0   \n",
       "6340                  NaN                       NaN                    NaN   \n",
       "\n",
       "     review_scores_communication review_scores_location  license  \\\n",
       "6252                        10.0                   10.0      NaN   \n",
       "4684                         9.0                    8.0      NaN   \n",
       "1731                         9.0                   10.0      NaN   \n",
       "4742                         NaN                    NaN      NaN   \n",
       "4521                        10.0                   10.0      NaN   \n",
       "6340                         NaN                    NaN      NaN   \n",
       "\n",
       "      instant_bookable calculated_host_listings_count reviews_per_month  \n",
       "6252                 f                            1.0              0.54  \n",
       "4684                 f                           24.0              0.04  \n",
       "1731                 f                            1.0              0.73  \n",
       "4742                 f                            1.0               NaN  \n",
       "4521                 t                            2.0              1.39  \n",
       "6340                 f                            1.0               NaN  \n",
       "\n",
       "[6 rows x 42 columns]"
      ],
      "text/html": "<div>\n<style scoped>\n    .dataframe tbody tr th:only-of-type {\n        vertical-align: middle;\n    }\n\n    .dataframe tbody tr th {\n        vertical-align: top;\n    }\n\n    .dataframe thead th {\n        text-align: right;\n    }\n</style>\n<table border=\"1\" class=\"dataframe\">\n  <thead>\n    <tr style=\"text-align: right;\">\n      <th></th>\n      <th>id</th>\n      <th>listing_url</th>\n      <th>last_scraped</th>\n      <th>name</th>\n      <th>description</th>\n      <th>host_id</th>\n      <th>host_name</th>\n      <th>host_since</th>\n      <th>host_location</th>\n      <th>host_about</th>\n      <th>...</th>\n      <th>last_review</th>\n      <th>review_scores_rating</th>\n      <th>review_scores_cleanliness</th>\n      <th>review_scores_checkin</th>\n      <th>review_scores_communication</th>\n      <th>review_scores_location</th>\n      <th>license</th>\n      <th>instant_bookable</th>\n      <th>calculated_host_listings_count</th>\n      <th>reviews_per_month</th>\n    </tr>\n  </thead>\n  <tbody>\n    <tr>\n      <th>6252</th>\n      <td>5611338.0</td>\n      <td>https://www.airbnb.com/rooms/5611338</td>\n      <td>2020-08-27</td>\n      <td>Lovely Flat close to Tower Bridge!</td>\n      <td>´The flat is very spacious (1 bedroom, living ...</td>\n      <td>29021331.0</td>\n      <td>Sandra</td>\n      <td>2015-03-09</td>\n      <td>Madrid, Community of Madrid, Spain</td>\n      <td>Hi! \\r\\n\\r\\nWe are Sandra and Pablo, a couple ...</td>\n      <td>...</td>\n      <td>2017-11-05</td>\n      <td>96.0</td>\n      <td>10.0</td>\n      <td>10.0</td>\n      <td>10.0</td>\n      <td>10.0</td>\n      <td>NaN</td>\n      <td>f</td>\n      <td>1.0</td>\n      <td>0.54</td>\n    </tr>\n    <tr>\n      <th>4684</th>\n      <td>4176912.0</td>\n      <td>https://www.airbnb.com/rooms/4176912</td>\n      <td>2020-08-26</td>\n      <td>B&amp;B Smart Charming 2bed 6 Sleeper</td>\n      <td>&lt;b&gt;The space&lt;/b&gt;&lt;br /&gt;PLEASE KINDLY ASK FOR AV...</td>\n      <td>1517803.0</td>\n      <td>Hilmi</td>\n      <td>2011-12-19</td>\n      <td>London, United Kingdom</td>\n      <td>I am a young professional with an engineer bac...</td>\n      <td>...</td>\n      <td>2015-04-02</td>\n      <td>73.0</td>\n      <td>9.0</td>\n      <td>9.0</td>\n      <td>9.0</td>\n      <td>8.0</td>\n      <td>NaN</td>\n      <td>f</td>\n      <td>24.0</td>\n      <td>0.04</td>\n    </tr>\n    <tr>\n      <th>1731</th>\n      <td>1041523.0</td>\n      <td>https://www.airbnb.com/rooms/1041523</td>\n      <td>2020-08-26</td>\n      <td>Beautifully Spacious Property in Islington</td>\n      <td>This beautiful 1 bedroom property sits in the ...</td>\n      <td>5733781.0</td>\n      <td>Tomas</td>\n      <td>2013-04-02</td>\n      <td>London</td>\n      <td>I'm from London and like to travel</td>\n      <td>...</td>\n      <td>2020-01-21</td>\n      <td>95.0</td>\n      <td>10.0</td>\n      <td>10.0</td>\n      <td>9.0</td>\n      <td>10.0</td>\n      <td>NaN</td>\n      <td>f</td>\n      <td>1.0</td>\n      <td>0.73</td>\n    </tr>\n    <tr>\n      <th>4742</th>\n      <td>4225126.0</td>\n      <td>https://www.airbnb.com/rooms/4225126</td>\n      <td>2020-08-26</td>\n      <td>Lovely room on Shoreditch Park</td>\n      <td>A nice room in East London on Regents Canal an...</td>\n      <td>13740059.0</td>\n      <td>Eric</td>\n      <td>2014-03-31</td>\n      <td>New York, New York, United States</td>\n      <td>World traveler extraordinaire</td>\n      <td>...</td>\n      <td>NaN</td>\n      <td>NaN</td>\n      <td>NaN</td>\n      <td>NaN</td>\n      <td>NaN</td>\n      <td>NaN</td>\n      <td>NaN</td>\n      <td>f</td>\n      <td>1.0</td>\n      <td>NaN</td>\n    </tr>\n    <tr>\n      <th>4521</th>\n      <td>4012401.0</td>\n      <td>https://www.airbnb.com/rooms/4012401</td>\n      <td>2020-08-26</td>\n      <td>BIG Double ROOM +LIVINGROOM + GARDEN @ CAMDEN ...</td>\n      <td>Spacious  double room in camden town with your...</td>\n      <td>20298323.0</td>\n      <td>James</td>\n      <td>2014-08-20</td>\n      <td>LONDON</td>\n      <td>French physiotherapist living in the heart of ...</td>\n      <td>...</td>\n      <td>2020-07-20</td>\n      <td>90.0</td>\n      <td>9.0</td>\n      <td>10.0</td>\n      <td>10.0</td>\n      <td>10.0</td>\n      <td>NaN</td>\n      <td>t</td>\n      <td>2.0</td>\n      <td>1.39</td>\n    </tr>\n    <tr>\n      <th>6340</th>\n      <td>5711398.0</td>\n      <td>https://www.airbnb.com/rooms/5711398</td>\n      <td>2020-08-26</td>\n      <td>Master Bedroom in a Converted Pub</td>\n      <td>We live an a beautifully converted pub, right ...</td>\n      <td>11021500.0</td>\n      <td>Toby</td>\n      <td>2014-01-04</td>\n      <td>London, England</td>\n      <td>I'm lively, easygoing and a little bit geeky. ...</td>\n      <td>...</td>\n      <td>NaN</td>\n      <td>NaN</td>\n      <td>NaN</td>\n      <td>NaN</td>\n      <td>NaN</td>\n      <td>NaN</td>\n      <td>NaN</td>\n      <td>f</td>\n      <td>1.0</td>\n      <td>NaN</td>\n    </tr>\n  </tbody>\n</table>\n<p>6 rows × 42 columns</p>\n</div>"
     },
     "metadata": {},
     "execution_count": 25
    }
   ],
   "source": [
    "df.sample(6, random_state=42)"
   ]
  },
  {
   "cell_type": "code",
   "execution_count": 28,
   "metadata": {},
   "outputs": [
    {
     "output_type": "execute_result",
     "data": {
      "text/plain": [
       "             id    price        room_type                    host_location  \\\n",
       "9120  7671832.0   $50.00     Private room                           London   \n",
       "1814  1117842.0   $27.00      Shared room  London, England, United Kingdom   \n",
       "13      38605.0   $58.00     Private room  London, England, United Kingdom   \n",
       "4485  3986296.0   $55.00     Private room  London, England, United Kingdom   \n",
       "9841  8205298.0  $250.00  Entire home/apt  London, England, United Kingdom   \n",
       "1054   575832.0  $170.00  Entire home/apt  London, England, United Kingdom   \n",
       "\n",
       "     last_review  review_scores_rating  license  \n",
       "9120  2015-08-16                  80.0      NaN  \n",
       "1814  2019-06-30                  94.0      NaN  \n",
       "13    2020-03-15                  95.0      NaN  \n",
       "4485  2020-03-17                  97.0      NaN  \n",
       "9841         NaN                   NaN      NaN  \n",
       "1054         NaN                   NaN      NaN  "
      ],
      "text/html": "<div>\n<style scoped>\n    .dataframe tbody tr th:only-of-type {\n        vertical-align: middle;\n    }\n\n    .dataframe tbody tr th {\n        vertical-align: top;\n    }\n\n    .dataframe thead th {\n        text-align: right;\n    }\n</style>\n<table border=\"1\" class=\"dataframe\">\n  <thead>\n    <tr style=\"text-align: right;\">\n      <th></th>\n      <th>id</th>\n      <th>price</th>\n      <th>room_type</th>\n      <th>host_location</th>\n      <th>last_review</th>\n      <th>review_scores_rating</th>\n      <th>license</th>\n    </tr>\n  </thead>\n  <tbody>\n    <tr>\n      <th>9120</th>\n      <td>7671832.0</td>\n      <td>$50.00</td>\n      <td>Private room</td>\n      <td>London</td>\n      <td>2015-08-16</td>\n      <td>80.0</td>\n      <td>NaN</td>\n    </tr>\n    <tr>\n      <th>1814</th>\n      <td>1117842.0</td>\n      <td>$27.00</td>\n      <td>Shared room</td>\n      <td>London, England, United Kingdom</td>\n      <td>2019-06-30</td>\n      <td>94.0</td>\n      <td>NaN</td>\n    </tr>\n    <tr>\n      <th>13</th>\n      <td>38605.0</td>\n      <td>$58.00</td>\n      <td>Private room</td>\n      <td>London, England, United Kingdom</td>\n      <td>2020-03-15</td>\n      <td>95.0</td>\n      <td>NaN</td>\n    </tr>\n    <tr>\n      <th>4485</th>\n      <td>3986296.0</td>\n      <td>$55.00</td>\n      <td>Private room</td>\n      <td>London, England, United Kingdom</td>\n      <td>2020-03-17</td>\n      <td>97.0</td>\n      <td>NaN</td>\n    </tr>\n    <tr>\n      <th>9841</th>\n      <td>8205298.0</td>\n      <td>$250.00</td>\n      <td>Entire home/apt</td>\n      <td>London, England, United Kingdom</td>\n      <td>NaN</td>\n      <td>NaN</td>\n      <td>NaN</td>\n    </tr>\n    <tr>\n      <th>1054</th>\n      <td>575832.0</td>\n      <td>$170.00</td>\n      <td>Entire home/apt</td>\n      <td>London, England, United Kingdom</td>\n      <td>NaN</td>\n      <td>NaN</td>\n      <td>NaN</td>\n    </tr>\n  </tbody>\n</table>\n</div>"
     },
     "metadata": {},
     "execution_count": 28
    }
   ],
   "source": [
    "df.sample(6, random_state=42)[['id', 'price', 'room_type', 'host_location', 'last_review', 'review_scores_rating', 'license']]"
   ]
  },
  {
   "cell_type": "code",
   "execution_count": 29,
   "metadata": {},
   "outputs": [
    {
     "output_type": "execute_result",
     "data": {
      "text/plain": [
       "             id                           listing_url last_scraped  \\\n",
       "3558  3138549.0  https://www.airbnb.com/rooms/3138549   2020-08-26   \n",
       "3559        NaN                                   NaN          NaN   \n",
       "3560  3140773.0  https://www.airbnb.com/rooms/3140773   2020-08-26   \n",
       "\n",
       "                                    name  \\\n",
       "3558  Heart of City of London/Shoreditch   \n",
       "3559                                   f   \n",
       "3560   One bed flat set on Victoria Park   \n",
       "\n",
       "                                            description     host_id  \\\n",
       "3558  Our lovely flat is in a newly designed buildin...   4968944.0   \n",
       "3559  https://a0.muscache.com/im/pictures/user/1c171...         1.0   \n",
       "3560  Home away from home. New build one bed flat on...  15947403.0   \n",
       "\n",
       "                                              host_name  host_since  \\\n",
       "3558                                          Alejandra  2013-02-04   \n",
       "3559  ['email', 'phone', 'reviews', 'jumio', 'govern...           t   \n",
       "3560                                               Mary  2014-05-25   \n",
       "\n",
       "               host_location              host_about  ... last_review  \\\n",
       "3558  London, United Kingdom        Alejandra Avila   ...         NaN   \n",
       "3559                       f  London, United Kingdom  ...           0   \n",
       "3560  London, United Kingdom                     NaN  ...  2017-05-10   \n",
       "\n",
       "     review_scores_rating review_scores_cleanliness  review_scores_checkin  \\\n",
       "3558                  NaN                       NaN                    NaN   \n",
       "3559                 0.13                       NaN                    NaN   \n",
       "3560               100.00                      10.0                   10.0   \n",
       "\n",
       "     review_scores_communication review_scores_location  license  \\\n",
       "3558                         NaN                    NaN      NaN   \n",
       "3559                         NaN                    NaN      NaN   \n",
       "3560                        10.0                   10.0      NaN   \n",
       "\n",
       "      instant_bookable calculated_host_listings_count reviews_per_month  \n",
       "3558               NaN                            NaN               NaN  \n",
       "3559               NaN                            NaN               NaN  \n",
       "3560                 f                            1.0              0.02  \n",
       "\n",
       "[3 rows x 42 columns]"
      ],
      "text/html": "<div>\n<style scoped>\n    .dataframe tbody tr th:only-of-type {\n        vertical-align: middle;\n    }\n\n    .dataframe tbody tr th {\n        vertical-align: top;\n    }\n\n    .dataframe thead th {\n        text-align: right;\n    }\n</style>\n<table border=\"1\" class=\"dataframe\">\n  <thead>\n    <tr style=\"text-align: right;\">\n      <th></th>\n      <th>id</th>\n      <th>listing_url</th>\n      <th>last_scraped</th>\n      <th>name</th>\n      <th>description</th>\n      <th>host_id</th>\n      <th>host_name</th>\n      <th>host_since</th>\n      <th>host_location</th>\n      <th>host_about</th>\n      <th>...</th>\n      <th>last_review</th>\n      <th>review_scores_rating</th>\n      <th>review_scores_cleanliness</th>\n      <th>review_scores_checkin</th>\n      <th>review_scores_communication</th>\n      <th>review_scores_location</th>\n      <th>license</th>\n      <th>instant_bookable</th>\n      <th>calculated_host_listings_count</th>\n      <th>reviews_per_month</th>\n    </tr>\n  </thead>\n  <tbody>\n    <tr>\n      <th>3558</th>\n      <td>3138549.0</td>\n      <td>https://www.airbnb.com/rooms/3138549</td>\n      <td>2020-08-26</td>\n      <td>Heart of City of London/Shoreditch</td>\n      <td>Our lovely flat is in a newly designed buildin...</td>\n      <td>4968944.0</td>\n      <td>Alejandra</td>\n      <td>2013-02-04</td>\n      <td>London, United Kingdom</td>\n      <td>Alejandra Avila</td>\n      <td>...</td>\n      <td>NaN</td>\n      <td>NaN</td>\n      <td>NaN</td>\n      <td>NaN</td>\n      <td>NaN</td>\n      <td>NaN</td>\n      <td>NaN</td>\n      <td>NaN</td>\n      <td>NaN</td>\n      <td>NaN</td>\n    </tr>\n    <tr>\n      <th>3559</th>\n      <td>NaN</td>\n      <td>NaN</td>\n      <td>NaN</td>\n      <td>f</td>\n      <td>https://a0.muscache.com/im/pictures/user/1c171...</td>\n      <td>1.0</td>\n      <td>['email', 'phone', 'reviews', 'jumio', 'govern...</td>\n      <td>t</td>\n      <td>f</td>\n      <td>London, United Kingdom</td>\n      <td>...</td>\n      <td>0</td>\n      <td>0.13</td>\n      <td>NaN</td>\n      <td>NaN</td>\n      <td>NaN</td>\n      <td>NaN</td>\n      <td>NaN</td>\n      <td>NaN</td>\n      <td>NaN</td>\n      <td>NaN</td>\n    </tr>\n    <tr>\n      <th>3560</th>\n      <td>3140773.0</td>\n      <td>https://www.airbnb.com/rooms/3140773</td>\n      <td>2020-08-26</td>\n      <td>One bed flat set on Victoria Park</td>\n      <td>Home away from home. New build one bed flat on...</td>\n      <td>15947403.0</td>\n      <td>Mary</td>\n      <td>2014-05-25</td>\n      <td>London, United Kingdom</td>\n      <td>NaN</td>\n      <td>...</td>\n      <td>2017-05-10</td>\n      <td>100.00</td>\n      <td>10.0</td>\n      <td>10.0</td>\n      <td>10.0</td>\n      <td>10.0</td>\n      <td>NaN</td>\n      <td>f</td>\n      <td>1.0</td>\n      <td>0.02</td>\n    </tr>\n  </tbody>\n</table>\n<p>3 rows × 42 columns</p>\n</div>"
     },
     "metadata": {},
     "execution_count": 29
    }
   ],
   "source": [
    "df.iloc[3558:3561,:]"
   ]
  },
  {
   "cell_type": "code",
   "execution_count": 33,
   "metadata": {},
   "outputs": [
    {
     "output_type": "execute_result",
     "data": {
      "text/plain": [
       "      id listing_url name                                        description  \\\n",
       "3559 NaN         NaN    f  https://a0.muscache.com/im/pictures/user/1c171...   \n",
       "\n",
       "      host_id                                          host_name  \n",
       "3559      1.0  ['email', 'phone', 'reviews', 'jumio', 'govern...  "
      ],
      "text/html": "<div>\n<style scoped>\n    .dataframe tbody tr th:only-of-type {\n        vertical-align: middle;\n    }\n\n    .dataframe tbody tr th {\n        vertical-align: top;\n    }\n\n    .dataframe thead th {\n        text-align: right;\n    }\n</style>\n<table border=\"1\" class=\"dataframe\">\n  <thead>\n    <tr style=\"text-align: right;\">\n      <th></th>\n      <th>id</th>\n      <th>listing_url</th>\n      <th>name</th>\n      <th>description</th>\n      <th>host_id</th>\n      <th>host_name</th>\n    </tr>\n  </thead>\n  <tbody>\n    <tr>\n      <th>3559</th>\n      <td>NaN</td>\n      <td>NaN</td>\n      <td>f</td>\n      <td>https://a0.muscache.com/im/pictures/user/1c171...</td>\n      <td>1.0</td>\n      <td>['email', 'phone', 'reviews', 'jumio', 'govern...</td>\n    </tr>\n  </tbody>\n</table>\n</div>"
     },
     "metadata": {},
     "execution_count": 33
    }
   ],
   "source": [
    "df[df.host_id.isna()][['id','listing_url','name','description','host_id','host_name']]"
   ]
  },
  {
   "cell_type": "code",
   "execution_count": null,
   "metadata": {},
   "outputs": [],
   "source": []
  }
 ],
 "metadata": {
  "kernelspec": {
   "name": "Python 3.8.5 32-bit",
   "display_name": "Python 3.8.5 32-bit",
   "metadata": {
    "interpreter": {
     "hash": "c617fa10d1ba9d6a36573c3c4f7496e3bb2fbcdd4aeff3a055aadb58d26c8355"
    }
   }
  },
  "language_info": {
   "codemirror_mode": {
    "name": "ipython",
    "version": 3
   },
   "file_extension": ".py",
   "mimetype": "text/x-python",
   "name": "python",
   "nbconvert_exporter": "python",
   "pygments_lexer": "ipython3",
   "version": "3.8.5-final"
  }
 },
 "nbformat": 4,
 "nbformat_minor": 4
}